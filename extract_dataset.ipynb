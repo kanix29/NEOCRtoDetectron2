{
 "cells": [
  {
   "cell_type": "markdown",
   "metadata": {},
   "source": [
    "# Extract Appropriate Images"
   ]
  },
  {
   "cell_type": "code",
   "execution_count": 29,
   "metadata": {},
   "outputs": [],
   "source": [
    "import os\n",
    "import matplotlib.pyplot as plt\n",
    "import numpy as np\n",
    "import cv2\n",
    "from utils import get_neocr_dicts\n",
    "from tqdm import tqdm\n",
    "import glob\n",
    "import shutil\n",
    "\n",
    "# from detectron2.config import get_cfg\n",
    "# from detectron2.engine import DefaultPredictor\n",
    "# from detectron2.utils.visualizer import Visualizer\n",
    "# from detectron2.data import MetadataCatalog, DatasetCatalog"
   ]
  },
  {
   "cell_type": "code",
   "execution_count": 3,
   "metadata": {},
   "outputs": [],
   "source": [
    "useless_list = [93519188, 105215353, 106907413, 140286525, 209596332, 230664808, 247632908, 328242995, \n",
    "                354001143, 377854318, 389227879, 407877135, 416780208, 423115341, 433780658, 436020480, \n",
    "                460235797, 491350693, 494481392, 528495588, 529587527, 539233740, 575687816, 586185068, \n",
    "                596597607, 616541433, 630994834, 642970880, 657467816, 692711963, 706795565, 708094209, \n",
    "                721270757, 833382544, 926016157, 291305860, 430641252, 496668027, 507940877, 662544171]"
   ]
  },
  {
   "cell_type": "code",
   "execution_count": 32,
   "metadata": {},
   "outputs": [
    {
     "name": "stdout",
     "output_type": "stream",
     "text": [
      "40\n"
     ]
    }
   ],
   "source": [
    "useless_images = []\n",
    "for number in useless_list:\n",
    "    image_name = f\"img_{number}.jpg\"\n",
    "    useless_images.append(image_name)\n",
    "print(len(useless_images))"
   ]
  },
  {
   "cell_type": "code",
   "execution_count": 27,
   "metadata": {},
   "outputs": [],
   "source": [
    "images_path = 'neocr_dataset/Images/users/pixtract/dataset/'\n",
    "annotations_path = 'neocr_dataset/Annotations/users/pixtract/dataset/'\n",
    "\n",
    "image_files = glob.glob(f\"{images_path}/*.jpg\")\n",
    "image_files.sort()\n",
    "\n",
    "xml_files = glob.glob(f\"{annotations_path}/*.xml\")\n",
    "xml_files.sort()"
   ]
  },
  {
   "cell_type": "code",
   "execution_count": 28,
   "metadata": {},
   "outputs": [
    {
     "name": "stdout",
     "output_type": "stream",
     "text": [
      "659\n"
     ]
    }
   ],
   "source": [
    "same = 0\n",
    "for (image_file, xml_file) in zip(image_files, xml_files):\n",
    "    \n",
    "    img_filename = os.path.basename(image_file)\n",
    "    xml_filename = os.path.basename(xml_file)\n",
    "    \n",
    "    img_num = img_filename.split('.')[0].split('_')[1]\n",
    "    xml_num = xml_filename.split('.')[0].split('_')[1]\n",
    "    \n",
    "    if img_num == xml_num:\n",
    "        same += 1\n",
    "\n",
    "print(same)"
   ]
  },
  {
   "cell_type": "code",
   "execution_count": 34,
   "metadata": {},
   "outputs": [
    {
     "name": "stdout",
     "output_type": "stream",
     "text": [
      "Making Extracted Images...\n",
      "Useless Images 40\n"
     ]
    }
   ],
   "source": [
    "save_img_dir = 'extracted_images/'\n",
    "os.makedirs(save_img_dir, exist_ok=True)\n",
    "\n",
    "save_xml_dir = 'extracted_annotations/'\n",
    "os.makedirs(save_xml_dir, exist_ok=True)\n",
    "\n",
    "EXTRACT = 0\n",
    "print('Making Extracted Images...')\n",
    "for (image_file, xml_file) in zip(image_files, xml_files):\n",
    "    \n",
    "    img_filename = os.path.basename(image_file)\n",
    "    xml_filename = os.path.basename(xml_file)\n",
    "    \n",
    "    if img_filename in useless_images:\n",
    "        EXTRACT += 1\n",
    "        continue\n",
    "        \n",
    "    shutil.copy(image_file, f'{save_img_dir}/{img_filename}')\n",
    "    shutil.copy(xml_file, f'{save_xml_dir}/{xml_filename}')\n",
    "\n",
    "print(f'Useless Images {EXTRACT}')"
   ]
  },
  {
   "cell_type": "code",
   "execution_count": null,
   "metadata": {},
   "outputs": [],
   "source": []
  }
 ],
 "metadata": {
  "kernelspec": {
   "display_name": "Python 3",
   "language": "python",
   "name": "python3"
  },
  "language_info": {
   "codemirror_mode": {
    "name": "ipython",
    "version": 3
   },
   "file_extension": ".py",
   "mimetype": "text/x-python",
   "name": "python",
   "nbconvert_exporter": "python",
   "pygments_lexer": "ipython3",
   "version": "3.6.10"
  }
 },
 "nbformat": 4,
 "nbformat_minor": 4
}
